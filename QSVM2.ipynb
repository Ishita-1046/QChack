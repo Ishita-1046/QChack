{
 "cells": [
  {
   "cell_type": "markdown",
   "metadata": {},
   "source": [
    "# Welcome!\n",
    "\n",
    "### This notebook aims to introduce the beginners to various concepts in Quantum Computing.This notebook is aimed for an audience who have a basic understanding of Machine Learning and wish to have a high level understanding of how Quantum Computing can impact Classical machine learning. First we introduce the concept of interference and discuss the role it plays in Quantum computing. We aim to give an overview of Quantum Computing and aim to explain the basic concept intuitively without excessive jargon. The aim of this project is to not overwhelm the beginners with intimidating mathematical equations but nonetheless provide them with at least basic understanding of fairly advanced Quantum Algorithms.\n",
    "\n",
    "\n"
   ]
  },
  {
   "cell_type": "markdown",
   "metadata": {},
   "source": [
    "# Outline.\n",
    "\n",
    "### * What are waves?\n",
    "### * How do waves interfere?\n",
    "### * How Quantum Computing leverages interference?\n",
    "\n",
    "### * Introduction to Machine Learning with Support Vector Machines.\n",
    "### * Quantum Machine Learning with Quantum Support Vector Machines\n"
   ]
  },
  {
   "cell_type": "markdown",
   "metadata": {},
   "source": [
    "# What are Waves?\n",
    "\n",
    "Waves are simply disturbances in a medium. Basically, they transport energy from one location to another without transporting matter.\n",
    "\n",
    "You must have come accross something like this at atleast one point or another.\n",
    "\n",
    "\n",
    "\n"
   ]
  },
  {
   "cell_type": "markdown",
   "metadata": {},
   "source": [
    "<img src=\"Sine.jpeg\" style=\"width=600px;height:200px\">"
   ]
  },
  {
   "cell_type": "markdown",
   "metadata": {},
   "source": [
    "Waves have various properties through which they are described.\n",
    "1)Wavelength:Refers to the length of a wave from one peak to the next.\n",
    "2)Frequency: Referes to the number of oscillation/repitition of wave in one cycle\n",
    "3)Amplitude: Refers to the highest point of the wave.\n",
    "\n",
    "\n"
   ]
  },
  {
   "cell_type": "markdown",
   "metadata": {},
   "source": [
    "\n",
    "## How do waves interfere?\n",
    "\n",
    "First of all, let us see what interference is. \n",
    "\n",
    "Interference is a phenomena in which two or more waves combine some parts and amplify or cancel each other out.\n",
    "This simply means that the positive amplitudes or crests amplify the resulting wave while positive and negative amplitudes cancel each other out.\n",
    "\n",
    "This is a fairly simple phenomena. The first level of complexity arises when we think about  the wave-particle theory of electrons which asserts that electrons are both particles and waves.\n",
    "\n",
    "The implications of this discovery are enormous. The double slit experiment conducted to show wave nature of electrons depicted an interference pattern when electrons were passed through a wall with two slits. The interference pattern confirms the wave nature of electrons.\n",
    "Now, how do we leverage this curious phenomena to our advantage? \n"
   ]
  },
  {
   "cell_type": "markdown",
   "metadata": {},
   "source": [
    "### * How Quantum Computing leverages interference?\n",
    "\n",
    "\n",
    "Now tighten your seatbelts people! Because this is where we say goodbye to Classical physics and delve into the world of Quantum. It's going to be a wild ride!\n",
    "\n",
    "Now, There is another theory which some of you who are somewhat familiar with Quantum mechanics might have heard about. That is Superposition.\n",
    "\n",
    "Superposition is a phenomena which states that any Quantum State can be represented as a combination of multiple states. Wild,right? Let’s take a step back to better understand this phenomena.\n",
    "\n",
    "A Classical state can be in a single state at a time. Like, if we talk about the bits in our computer then they can exist in either 0 or 1 state at a time. \n",
    "\n",
    "A Quantum state on the other hand can be in multiple states at a time. A bit in a Quantum Computer called Qubit can exist in a superposition of 0 and 1 state. Simply, it means it exists in 0 and 1 state at the same time.\n",
    "\n",
    "If you think about it then, Interference is just a byproduct of Superposition. Think about it. Look at this figure.\n"
   ]
  },
  {
   "cell_type": "markdown",
   "metadata": {},
   "source": [
    "<img src=\"interference.png\">\n"
   ]
  },
  {
   "cell_type": "markdown",
   "metadata": {},
   "source": [
    "When two waves interfere, the resultant state is a mixture of the previous two states. So now, the resultant wave  exists in both the initial states at the same time. This is a nice way to think about superposition.\n",
    "\n",
    "But we still haven’t taked about leveraging interference. So here it comes.\n",
    "\n",
    "As we are talking about Quantum Computing, let’s talk about the role interference plays in Quantum Algorithms.\n",
    "\n",
    "The first step of most of the Quantum Algorithms is to bring all the qubits in an equal superposition state. And as we talked earlier, interference is a byproduct of superposition, so all the qubits attain a state where they are equally likely to measure any of the states. \n",
    "Further, we leverage interference to control the probability of measuring any one state over the other. This will be explained in the upcoming sections.\n"
   ]
  },
  {
   "cell_type": "markdown",
   "metadata": {},
   "source": [
    "### * Introduction to Machine Learning with Support Vector Machines.\n",
    "\n",
    "Now, this is the last section before we get our hands dirty, so hang on! \n",
    "\n",
    "Let’s talk about Support Vector machines. Support Vector Machines are used in regression and classification of data points in classical machine learning.\n",
    "\n",
    "For those who do not know about SVM, they basically classify data points into various classes by mapping them into points in a higher dimensional space and then maximize the distance between points belonging to various classes. The mapping is done by using a Feature Map and then a Kernel  is calculated by taking the inner product(etc.) which is the catch as it is hard and expensive for classical computers to calculate effective Kernels in very high dimensions. \n",
    "\n",
    "Once the data points are mapped with the kernel, training commences.\n",
    "\n"
   ]
  },
  {
   "cell_type": "markdown",
   "metadata": {},
   "source": [
    "### * Quantum Machine Learning with Quantum Support Vector Machines:\n",
    "\n",
    "Quantum Support Vector Machines are fairly similar to their classical counterparts. The only difference is their way to calculating the kernel matrix. \n",
    "\n",
    "In QSVM, classical data points are mapped into quantum states by using a feature map. Then, the kernel matrix is calculated by leveraging the principles of QC we talked about earlier. The process is the same as that of classical SVM afterwards.\n",
    "\n",
    "The Kernel Calculation is now done using Quantum Feature maps.\n",
    "\n"
   ]
  },
  {
   "cell_type": "markdown",
   "metadata": {},
   "source": [
    "### Now we are ready to start implementing QSVM.\n",
    "\n",
    "### Here we use Qiskit for implementation. \n",
    "\n",
    "Here we use Wine Dataset to classifiy wine into thier respective qualities based on their individual features.\n",
    "Wine is classified into classes 0,1,2 on the basis of their qualities in ascending order. "
   ]
  },
  {
   "cell_type": "markdown",
   "metadata": {},
   "source": [
    "First of all we import important packages."
   ]
  },
  {
   "cell_type": "code",
   "execution_count": 1,
   "metadata": {},
   "outputs": [],
   "source": [
    "import numpy as np\n",
    "\n",
    "from qiskit import BasicAer\n",
    "from qiskit.circuit.library import ZZFeatureMap\n",
    "from qiskit.aqua import QuantumInstance, aqua_globals\n",
    "from qiskit.aqua.algorithms import QSVM\n",
    "from qiskit.aqua.components.multiclass_extensions import AllPairs\n",
    "from qiskit.aqua.utils.dataset_helper import get_feature_dimension\n",
    "from qiskit.aqua.utils import split_dataset_to_data_and_labels,map_label_to_class_name"
   ]
  },
  {
   "cell_type": "markdown",
   "metadata": {},
   "source": [
    "Now we import the wine dataset from Qiskit and divide the dataset into training and testing inputs and labels."
   ]
  },
  {
   "cell_type": "code",
   "execution_count": 2,
   "metadata": {},
   "outputs": [
    {
     "name": "stdout",
     "output_type": "stream",
     "text": [
      "{'A': 0, 'B': 1, 'C': 2}\n"
     ]
    },
    {
     "name": "stderr",
     "output_type": "stream",
     "text": [
      "/opt/conda/lib/python3.8/site-packages/qiskit/ml/__init__.py:40: DeprecationWarning: The package qiskit.ml is deprecated. It was moved/refactored to qiskit_machine_learning (pip install qiskit-machine-learning). For more information see <https://github.com/Qiskit/qiskit-aqua/blob/master/README.md#migration-guide>\n",
      "  warn_package('ml', 'qiskit_machine_learning', 'qiskit-machine-learning')\n"
     ]
    }
   ],
   "source": [
    "from qiskit.ml.datasets import wine\n",
    "\n",
    "n = 2  # dimension of each data point\n",
    "sample_Total, training_input, test_input, class_labels = wine(training_size=15,\n",
    "                                                              test_size=5, n=n, plot_data=False)\n",
    "data,class_to_label=split_dataset_to_data_and_labels(test_input)\n",
    "print(class_to_label)\n",
    "\n",
    "\n",
    "temp = [test_input[k] for k in test_input]\n",
    "total_array = np.concatenate(temp)\n",
    "#print(test_input)\n"
   ]
  },
  {
   "cell_type": "markdown",
   "metadata": {},
   "source": [
    "After Splitting our original dataset , we map the data point with a Quantum Feature Map into high dimentional Quantum States.\n",
    "Then we use the inbuilt QSVM function from qiskit to generate SVM model of our points. \n",
    "Finally, we initialise our Quantum Instance and run our model."
   ]
  },
  {
   "cell_type": "code",
   "execution_count": 3,
   "metadata": {},
   "outputs": [
    {
     "name": "stderr",
     "output_type": "stream",
     "text": [
      "<ipython-input-3-ace18f174fa3>:1: DeprecationWarning: The variable qiskit.aqua.aqua_globals is deprecated. It was moved/refactored to qiskit.utils.aqua_globals (pip install qiskit-terra). For more information see <https://github.com/Qiskit/qiskit-aqua/blob/master/README.md#migration-guide>\n",
      "  aqua_globals.random_seed = 10598\n",
      "/opt/conda/lib/python3.8/site-packages/qiskit/aqua/components/multiclass_extensions/multiclass_extension.py:34: DeprecationWarning: The package qiskit.aqua.components.multiclass_extensions is deprecated. For more information see <https://github.com/Qiskit/qiskit-aqua/blob/master/README.md#migration-guide>\n",
      "  warn_package('aqua.components.multiclass_extensions')\n",
      "/opt/conda/lib/python3.8/site-packages/qiskit/aqua/algorithms/classifiers/qsvm/qsvm.py:102: DeprecationWarning: The package qiskit.aqua.algorithms.classifiers is deprecated. It was moved/refactored to qiskit_machine_learning.algorithms.classifiers (pip install qiskit-machine-learning). For more information see <https://github.com/Qiskit/qiskit-aqua/blob/master/README.md#migration-guide>\n",
      "  warn_package('aqua.algorithms.classifiers',\n",
      "/opt/conda/lib/python3.8/site-packages/qiskit/aqua/quantum_instance.py:135: DeprecationWarning: The class qiskit.aqua.QuantumInstance is deprecated. It was moved/refactored to qiskit.utils.QuantumInstance (pip install qiskit-terra). For more information see <https://github.com/Qiskit/qiskit-aqua/blob/master/README.md#migration-guide>\n",
      "  warn_class('aqua.QuantumInstance',\n"
     ]
    }
   ],
   "source": [
    "aqua_globals.random_seed = 10598\n",
    "\n",
    "backend = BasicAer.get_backend('qasm_simulator')\n",
    "feature_map = ZZFeatureMap(feature_dimension=get_feature_dimension(training_input),\n",
    "                           reps=2, entanglement='linear')\n",
    "svm = QSVM(feature_map, training_input, test_input, total_array,\n",
    "           multiclass_extension=AllPairs())\n",
    "quantum_instance = QuantumInstance(backend, shots=1024,\n",
    "                                   seed_simulator=aqua_globals.random_seed,\n",
    "                                   seed_transpiler=aqua_globals.random_seed)\n",
    "\n",
    "result = svm.run(quantum_instance)\n",
    "#for k,v in result.items():\n",
    "#    print(f'{k} : {v}')"
   ]
  },
  {
   "cell_type": "markdown",
   "metadata": {},
   "source": [
    "We now analyse the performance of our model by comparing the original labels in our test set with those predicted by our model"
   ]
  },
  {
   "cell_type": "code",
   "execution_count": 4,
   "metadata": {
    "scrolled": true
   },
   "outputs": [
    {
     "name": "stdout",
     "output_type": "stream",
     "text": [
      "Ground Truth:[0 1 2 2 2]\n",
      "Prediction:[0 1 2 2 2]\n",
      "Success Rate: 1.0\n",
      "0\n",
      "0\n"
     ]
    }
   ],
   "source": [
    "predict_labels=svm.predict(data[0])\n",
    "predict_classes=map_label_to_class_name(predict_labels,svm.label_to_class)\n",
    "print(\"Ground Truth:{}\".format(data[1]))\n",
    "print(\"Prediction:{}\".format(predict_labels))\n",
    "print(\"Success Rate:\",result[\"testing_accuracy\"])\n",
    "#print(data[1][0])\n",
    "#print(predict_labels[0])"
   ]
  },
  {
   "cell_type": "markdown",
   "metadata": {},
   "source": [
    "As we can see in the above output, we get a 100% testing accuracy."
   ]
  },
  {
   "cell_type": "markdown",
   "metadata": {},
   "source": [
    "This concludes our notebook. I hope you got at least an idea about what makes Quantum Computing so powerful. If you do not\n",
    "understand everything then that is fine as the aim of this notebook is not to provide technical understanding but to give a basic overview about a powerful application of QC Algorithms. This is meant to be an attempt to hook you into the field without\n",
    "overwhelming you. We hope that attempt will be a successful one."
   ]
  },
  {
   "cell_type": "code",
   "execution_count": null,
   "metadata": {},
   "outputs": [],
   "source": [
    "\n"
   ]
  },
  {
   "cell_type": "code",
   "execution_count": null,
   "metadata": {},
   "outputs": [],
   "source": []
  },
  {
   "cell_type": "code",
   "execution_count": null,
   "metadata": {},
   "outputs": [],
   "source": []
  }
 ],
 "metadata": {
  "kernelspec": {
   "display_name": "Python 3",
   "language": "python",
   "name": "python3"
  },
  "language_info": {
   "codemirror_mode": {
    "name": "ipython",
    "version": 3
   },
   "file_extension": ".py",
   "mimetype": "text/x-python",
   "name": "python",
   "nbconvert_exporter": "python",
   "pygments_lexer": "ipython3",
   "version": "3.8.5"
  }
 },
 "nbformat": 4,
 "nbformat_minor": 5
}
